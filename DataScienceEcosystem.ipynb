{
 "cells": [
  {
   "cell_type": "markdown",
   "id": "6be480c9-2c74-4af5-9137-0b4d0452c56c",
   "metadata": {},
   "source": [
    "# Data Science Tools and Ecosystem #"
   ]
  },
  {
   "cell_type": "markdown",
   "id": "3b41ce0f-2f94-4a69-8897-bb7d78656d30",
   "metadata": {
    "tags": []
   },
   "source": [
    "In this notebook, Data Science Tools and Ecosystem are summarized"
   ]
  },
  {
   "cell_type": "markdown",
   "id": "6c794e0f-6a57-4565-a395-2d56340c9ae3",
   "metadata": {},
   "source": [
    "## Objectives: ##"
   ]
  },
  {
   "cell_type": "markdown",
   "id": "1bad4e96-a5b3-46d3-bccb-79abd0a217f2",
   "metadata": {},
   "source": [
    "- Documentation: Can document your code, data anlysis, and results in a coherent manner\n",
    "- Collaboration: Create and share documents\n",
    "- Experimentation: great tool for trying different algorithms, data pre processing techniques, and more\n",
    "- Learning and Teaching\n",
    "- Integration: Notebooks can be integrated with various data science libraries and tools."
   ]
  },
  {
   "cell_type": "markdown",
   "id": "6ae52ab1-9d31-459b-8393-77321aaffe50",
   "metadata": {},
   "source": [
    "Some of the popular languages that Data Scientists use are:"
   ]
  },
  {
   "cell_type": "markdown",
   "id": "1480cb29-2a49-48ca-a1af-199a23cf40cc",
   "metadata": {},
   "source": [
    "- Python\n",
    "- R\n",
    "- SQL\n",
    "- Java \n",
    "- Scala\n",
    "- C++"
   ]
  },
  {
   "cell_type": "markdown",
   "id": "bbcd4f14-b3c1-4fb0-a430-98f895a00a83",
   "metadata": {
    "tags": []
   },
   "source": [
    "Some of the commonly used libraries used by Data Scientists include:"
   ]
  },
  {
   "cell_type": "markdown",
   "id": "08fc0cd4-9ac3-4e5e-9716-be516b0a3bd6",
   "metadata": {},
   "source": [
    "- Python libraries\n",
    "- Apache Sparks\n",
    "- Scala\n",
    "- R "
   ]
  },
  {
   "cell_type": "markdown",
   "id": "e6096b4d-ae2f-4734-b735-92b07c7385a8",
   "metadata": {},
   "source": [
    "| Data Science Tools |\n",
    "|:-------------------|\n",
    "| Jupyter            |\n",
    "| Watson Studio      |\n",
    "| Rsudio             |"
   ]
  },
  {
   "cell_type": "markdown",
   "id": "15bfc957-5d8a-4424-972a-800f931a36d9",
   "metadata": {},
   "source": [
    "### Below are a few examples of evaluating arithmetic expressions in Python ###"
   ]
  },
  {
   "cell_type": "markdown",
   "id": "a445c4e9-b83c-40e9-9f34-7a49eb34b452",
   "metadata": {
    "tags": []
   },
   "source": [
    " This a simple arithmetic expression to mutiply then add integers"
   ]
  },
  {
   "cell_type": "markdown",
   "id": "5bbe086b-2854-4ce9-9ece-69c45817eef6",
   "metadata": {},
   "source": [
    " This will convert 200 minutes to hours by diving by 60"
   ]
  },
  {
   "cell_type": "code",
   "execution_count": 5,
   "id": "151d2151-8185-47ee-944c-9d88f5c2b524",
   "metadata": {
    "tags": []
   },
   "outputs": [
    {
     "data": {
      "text/plain": [
       "3.3333333333333335"
      ]
     },
     "execution_count": 5,
     "metadata": {},
     "output_type": "execute_result"
    }
   ],
   "source": [
    "minutes=200\n",
    "hours=minutes/60\n",
    "hours"
   ]
  },
  {
   "cell_type": "markdown",
   "id": "88c412d0-b57b-403c-9a30-3a561b9ca48c",
   "metadata": {},
   "source": [
    "## Author: ##"
   ]
  },
  {
   "cell_type": "markdown",
   "id": "036536af-66fb-4420-930c-238894f2d8f1",
   "metadata": {
    "tags": []
   },
   "source": [
    "Kenny"
   ]
  },
  {
   "cell_type": "markdown",
   "id": "63b535c8-c315-4fbb-8912-c7e9a01cd447",
   "metadata": {},
   "source": []
  }
 ],
 "metadata": {
  "kernelspec": {
   "display_name": "Python 3 (ipykernel)",
   "language": "python",
   "name": "python3"
  },
  "language_info": {
   "codemirror_mode": {
    "name": "ipython",
    "version": 3
   },
   "file_extension": ".py",
   "mimetype": "text/x-python",
   "name": "python",
   "nbconvert_exporter": "python",
   "pygments_lexer": "ipython3",
   "version": "3.11.4"
  }
 },
 "nbformat": 4,
 "nbformat_minor": 5
}
